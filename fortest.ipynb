{
 "cells": [
  {
   "cell_type": "code",
   "execution_count": 33,
   "metadata": {
    "collapsed": false
   },
   "outputs": [],
   "source": [
    "from selenium import webdriver\n",
    "from selenium.webdriver.common.action_chains import ActionChains\n",
    "\n",
    "\n",
    "driver=webdriver.Firefox()\n",
    "driver.get(r'https://wenku.baidu.com/view/aa31a84bcf84b9d528ea7a2c.html')"
   ]
  },
  {
   "cell_type": "markdown",
   "metadata": {},
   "source": [
    "### 总页数"
   ]
  },
  {
   "cell_type": "code",
   "execution_count": 34,
   "metadata": {
    "collapsed": false
   },
   "outputs": [
    {
     "data": {
      "text/plain": [
       "13"
      ]
     },
     "execution_count": 34,
     "metadata": {},
     "output_type": "execute_result"
    }
   ],
   "source": [
    "pcount=int(driver.find_element_by_class_name('page-count').text.replace(\"/\",\"\"))\n",
    "pcount"
   ]
  },
  {
   "cell_type": "code",
   "execution_count": 32,
   "metadata": {
    "collapsed": false
   },
   "outputs": [],
   "source": [
    "driver.find_element_by_class_name('page-input').clear()\n",
    "driver.find_element_by_class_name('page-input').send_keys(str(2)+\"\\n\")"
   ]
  },
  {
   "cell_type": "markdown",
   "metadata": {},
   "source": [
    "##  获取两个页面试试"
   ]
  },
  {
   "cell_type": "code",
   "execution_count": 42,
   "metadata": {
    "collapsed": false
   },
   "outputs": [
    {
     "name": "stdout",
     "output_type": "stream",
     "text": [
      "['31、混合销售的营业税避税筹划', ' 在实际经济活动当中，纳税人从事营业税应税项目，并不仅仅局限在工某单一应税项目上，往往会同时出现多项应税项目。', ' 例如，有些宾馆、饭店，既搞展厅、客房，从事服务业，又搞卡拉OK舞厅，从事娱乐业。', ' 又如，建筑公司既搞建筑安装，从事应纳营业税的建筑业，又搞建筑材料销售，从事应纳增值税的货物销售，等等。', ' 对不同的经营行为应有不同的税务处理，这是贯彻执行营业税条例，正确处理营业税与增值税关系的一个重点。作为纳税人，必须正确掌握税收政策，准确界定什么是兼营销售和混合销售，才能避免从高适用税率，以维护自身的税收利益。', ' 一项销售行为，如果既涉及应税劳务又涉及货物或非应税劳务，称为混合销售行为。从事货物的生产、批发或零售的企业、企业性单位及个体经营者的混合销售行为，视为销售货物，不缴纳营业税；其他单位和个人的混合销售行为，视为提供应税劳务，应当缴纳营业税。所称从事货物的生产、批发或零售的企业、企业性单位及个体经营者，包括以从事货物的生产、批发或零售为主并兼营应税劳务的企业、企业性单位及个体经营者在内。', ' 所谓以从事货物的生产、批发或零售为主，是指纳税人的年货物销售额与非增值税应税劳务营业额的合计数中，年货物销售额超过总额50％，非增值税应税劳务营业额不到总额50％。', ' 我国现行税制规定，在混合销售行为中，判定\"以从事货物的生产、批发或零售为主，并兼营非应税劳务的企业、企业性单位及个体经营者\"的标准是，纳税人年应税货物销售额与非应税劳务营业额的合计数中，年货物销售额超过50％，非增值税应税劳务营业额不到50％。', ' 从事营业税应税劳务的公司，当其主要客户是不要求取得增值税专用发票的最终消费者时，可以通过并购特定工商企业的方式，从事一定的货物生产、批发或零售的业务，而就全部收入按照较低的税率交纳营业税。比如，从事建筑施工的企业可以合并一家从事建材销售的企业，以包工包料的形式提供劳务。只要其建材的销售额不超过其建筑施工的营业额，就仍然可以按较低的税率缴纳营业税。', ' 纳税人在进行筹划时，主要是对比一下增值税和营业税税负的高低，然后选择低税负的税种。一般情况下，大家认为增值税税负肯定高于营业税税负，但实际上未必如此。']\n",
      "['增值税一般纳税人的计税原理是，应纳税额等于企业经营的增值额乘以增值税税率，增值额和经营收入的比率称为增值率，所以应纳增值税税额也等于经营收入总额乘以增值率再乘以增值税税率；营业税应纳税额等于经营收入总额乘以营业税税率。', ' 为比较二者税负高低，设经营收入总额为X，增值率为P，增值税税率为re，营业税税率为rt，则有：', ' 应纳增值税税额＝X×P×re', ' 应纳营业税税额＝X×rt', ' 当二者税负相等时有：X×P×re＝Y×t2，则P＝rt÷re', ' 由此可以得出结论：当实际的增值率大于P时，纳税人筹划缴纳营业税比较合算；', ' 当实际增值率等于P时，缴纳增值税和营业税税负完全一样；当实际的增值率小于P时，缴纳增值税比较合算。', ' 实际增值率计算公式如下：', ' 纳税人实际增值率＝增值额÷经营收入总额＝（经营收入总额－允许扣除项目金额）÷经营收入总额', ' 上面分析了兼营和混合销售税收筹划的原理，纳税人在实际运用时，还受到税法对这两种经营行为征税规定的限制，下面结合有关征税规定，说明其原理的具体运用。', ' 混合销售行为是指企业的同一项销售行为既涉及增值税应税货物又涉及营业税的应税劳务，而且提供应税劳务的目的是直接为了销售这批货物而作出的，二者间是紧密相连的从属关系。混合销售是面向同一购买人的，增值税应税货物和营业税应税劳务是合并定价，二者不可能分开核算。', ' 对混合销售的税务处理办法是：从事货物的生产、批发或零售的企业、企业性单位及个体经营者以及以从事货物的生产、批发或零售为主，并兼营非应税劳务的企业、企业性单位及个体经营者的混合销售行为，视为销售非应税劳务，不征收增值税。', ' 纳税人可以通过控制应税货物和应税劳务的所占比例，来达到选择缴纳低税负税种的目的。']\n"
     ]
    }
   ],
   "source": [
    "for i in range(1,3):\n",
    "    content=driver.find_element_by_id(\"pageNo-\"+str(i))\n",
    "    content.text\n",
    "    content1=content.text.replace('\\n','')\n",
    "    content2=content1.split('  ')\n",
    "    while '' in content2:\n",
    "        content2.remove('')\n",
    "    print(content2)"
   ]
  }
 ],
 "metadata": {
  "kernelspec": {
   "display_name": "Python 3",
   "language": "python",
   "name": "python3"
  },
  "language_info": {
   "codemirror_mode": {
    "name": "ipython",
    "version": 3
   },
   "file_extension": ".py",
   "mimetype": "text/x-python",
   "name": "python",
   "nbconvert_exporter": "python",
   "pygments_lexer": "ipython3",
   "version": "3.6.0"
  }
 },
 "nbformat": 4,
 "nbformat_minor": 2
}
