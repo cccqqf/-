{
 "cells": [
  {
   "cell_type": "markdown",
   "metadata": {},
   "source": [
    "# 尝试爬取\n",
    "### 这里要把屏幕下拉到第三个page那里\n",
    "* 暂时通过js进行下拉，move_element 好像有点问题\n",
    "* 判断页面是否少于3页，多的话点按钮\n"
   ]
  },
  {
   "cell_type": "code",
   "execution_count": 21,
   "metadata": {
    "collapsed": false
   },
   "outputs": [],
   "source": [
    "import time\n",
    "from selenium import webdriver\n",
    "from selenium.webdriver.common.action_chains import ActionChains\n",
    "\n",
    "\n",
    "driver=webdriver.Firefox()\n",
    "#driver.get(r'https://wenku.baidu.com/view/aa31a84bcf84b9d528ea7a2c.html')\n",
    "#driver.get(r'https://wenku.baidu.com/view/4f22ff236294dd88d1d26bbc.html?from=search')\n",
    "driver.get(r'https://wenku.baidu.com/view/12132c85f7ec4afe05a1dfa4.html')\n",
    "\n",
    "#将页面下拉到4000，大概的一个值，很有可能错误\n",
    "\n",
    "\n",
    "more_read=driver.find_elements_by_class_name(\"banner-more-btn\")\n",
    "if len(more_read)!=0:\n",
    "    js=\"var q=document.documentElement.scrollTop=4000\"\n",
    "    driver.execute_script(js)\n",
    "    time.sleep(1)\n",
    "    btn=driver.find_element_by_class_name(\"banner-more-btn\")\n",
    "    ActionChains(driver).click(btn).perform()"
   ]
  },
  {
   "cell_type": "markdown",
   "metadata": {},
   "source": [
    "### 获取文字\n",
    "* 好像是采用懒加载的原因，没办法一次爬下来，估计上面也是这个原因，一次两页应该可\n",
    "* 写入文档时候字体会不一样，暂时先统一成宋体\n",
    "* 如果复制不全，文档删了重新来几遍会好"
   ]
  },
  {
   "cell_type": "code",
   "execution_count": 25,
   "metadata": {
    "collapsed": false,
    "scrolled": true
   },
   "outputs": [
    {
     "name": "stdout",
     "output_type": "stream",
     "text": [
      "ok\n"
     ]
    }
   ],
   "source": [
    "import docx\n",
    "from docx.oxml.ns import qn\n",
    "\n",
    "\n",
    "file=docx.Document()\n",
    "\n",
    "\n",
    "pcount=int(driver.find_element_by_class_name('page-count').text.replace(\"/\",\"\"))\n",
    "pcount\n",
    "for i in range(1,pcount+1):\n",
    "    driver.find_element_by_class_name('page-input').clear()\n",
    "    driver.find_element_by_class_name('page-input').send_keys(str(i)+\"\\n\")\n",
    "\n",
    "    content=driver.find_element_by_id(\"pageNo-\"+str(i))\n",
    "    content.text\n",
    "    content1=content.text.replace('\\n','')\n",
    "    content2=content1.split('  ')\n",
    "    while '' in content2:\n",
    "        content2.remove('')\n",
    "    for i in content2:\n",
    "        file.add_paragraph(i)\n",
    "        file.styles['Normal'].font.name=u'宋体'\n",
    "        file.styles['Normal']._element.rPr.rFonts.set(qn('w:eastAsia'), u'宋体')\n",
    "\n",
    "file.save(\"D:\\\\test.docx\")\n",
    "print(\"ok\")"
   ]
  }
 ],
 "metadata": {
  "kernelspec": {
   "display_name": "Python 3",
   "language": "python",
   "name": "python3"
  },
  "language_info": {
   "codemirror_mode": {
    "name": "ipython",
    "version": 3
   },
   "file_extension": ".py",
   "mimetype": "text/x-python",
   "name": "python",
   "nbconvert_exporter": "python",
   "pygments_lexer": "ipython3",
   "version": "3.6.0"
  }
 },
 "nbformat": 4,
 "nbformat_minor": 2
}
